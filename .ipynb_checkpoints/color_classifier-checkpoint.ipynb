{
 "cells": [
  {
   "cell_type": "code",
   "execution_count": 12,
   "metadata": {},
   "outputs": [],
   "source": [
    "import scipy.io as scio\n",
    "import pandas as pd\n",
    "import numpy as np\n",
    "from keras import utils\n",
    "from sklearn import preprocessing\n",
    "from collections import Iterable\n",
    "from keras.models import Sequential\n",
    "from keras.layers import LSTM\n",
    "from keras.layers import Dropout, Dense\n",
    "from keras import optimizers"
   ]
  },
  {
   "cell_type": "code",
   "execution_count": 13,
   "metadata": {
    "collapsed": true
   },
   "outputs": [],
   "source": [
    "df_label = pd.ExcelFile('Data/TrainingSet/Results.xlsx')\n",
    "df_label = df_label.parse('Tabelle1')\n",
    "df_label = np.array(df_label)\n",
    "data_label = utils.np_utils.to_categorical(df_label)\n",
    "\n",
    "record = []\n",
    "for i in range(len(data_label)):\n",
    "    d = data_label[i][0]\n",
    "    d = d.flatten()\n",
    "    record.append(d)\n",
    "# print record\n",
    "data_label = pd.DataFrame.from_records(record)\n",
    "dim_label = data_label.shape[1]"
   ]
  },
  {
   "cell_type": "code",
   "execution_count": 14,
   "metadata": {},
   "outputs": [],
   "source": [
    "file = 'Data/TrainingSet/testimagesAsMatlab.mat'\n",
    "data = scio.loadmat(file)\n",
    "data1 = data.get('images')\n",
    "record = []\n",
    "for i in range(len(data1)):\n",
    "    d = data1[i][0]\n",
    "    d = d.flatten()\n",
    "    record.append(d)\n",
    "df_train = pd.DataFrame.from_records(record)\n",
    "# scaler = preprocessing.StandardScaler()\n",
    "# data_train = scaler.fit_transform(df_train)\n",
    "\n",
    "data_train = preprocessing.normalize(df_train)\n",
    "# binarizer = preprocessing.Binarizer(threshold=0.00000001)\n",
    "# data_train = binarizer.transform(df_train)\n",
    "# print data_train\n",
    "dim_train = data_train.shape[1]\n",
    "\n",
    "tp = 1\n",
    "record_label = []\n",
    "record_train = []\n",
    "for i in range(len(data_train)):\n",
    "    record_train.append(data_train[i: (i + tp)])\n",
    "#     record_label.append(data_label[i])\n",
    "\n",
    "data_label = np.array(data_label)\n",
    "data_train = np.array(record_train)\n",
    "# data_train.shape"
   ]
  },
  {
   "cell_type": "code",
   "execution_count": 15,
   "metadata": {
    "collapsed": true
   },
   "outputs": [],
   "source": [
    "file_test = 'Data/ValidationSet/testimageAsMatlab.mat'\n",
    "data2 = scio.loadmat(file_test)\n",
    "data2 = data2.get('images')\n",
    "record_test = []\n",
    "for m in range(len(data2)):\n",
    "    d1 = data2[m][0]\n",
    "    d1 = d1.flatten()\n",
    "    record_test.append(d1)\n",
    "df_test = pd.DataFrame.from_records(record_test)\n",
    "data_test = preprocessing.normalize(df_test)\n",
    "\n",
    "# scaler1 = preprocessing.StandardScaler()\n",
    "# data_test= scaler1.fit_transform(df_train)\n",
    "\n",
    "# binarizer = preprocessing.Binarizer(threshold=0.00000001)\n",
    "# data_test = binarizer.transform(df_test)\n",
    "\n",
    "record_test = []\n",
    "tp = 1\n",
    "for n in range(len(data_test)):\n",
    "    record_test.append(data_test[i:(i + tp)])\n",
    "\n",
    "data_test = np.array(record_test)"
   ]
  },
  {
   "cell_type": "code",
   "execution_count": 18,
   "metadata": {},
   "outputs": [
    {
     "name": "stderr",
     "output_type": "stream",
     "text": [
      "/Users/weijt606/anaconda2/envs/keras/lib/python2.7/site-packages/ipykernel_launcher.py:9: UserWarning: Update your `Dense` call to the Keras 2 API: `Dense(1, activation=\"sigmoid\", kernel_initializer=\"uniform\")`\n",
      "  if __name__ == '__main__':\n"
     ]
    },
    {
     "name": "stdout",
     "output_type": "stream",
     "text": [
      "Epoch 1/10\n",
      "100/100 [==============================] - 2s - loss: 0.6922 - acc: 0.6400     \n",
      "Epoch 2/10\n",
      "100/100 [==============================] - 0s - loss: 0.6784 - acc: 0.9000     \n",
      "Epoch 3/10\n",
      "100/100 [==============================] - 0s - loss: 0.6263 - acc: 0.9300     \n",
      "Epoch 4/10\n",
      "100/100 [==============================] - 0s - loss: 0.5494 - acc: 0.9600     \n",
      "Epoch 5/10\n",
      "100/100 [==============================] - 0s - loss: 0.4790 - acc: 0.8800     \n",
      "Epoch 6/10\n",
      "100/100 [==============================] - 0s - loss: 0.3898 - acc: 0.9500     \n",
      "Epoch 7/10\n",
      "100/100 [==============================] - 0s - loss: 0.3493 - acc: 0.9200     \n",
      "Epoch 8/10\n",
      "100/100 [==============================] - 0s - loss: 0.3279 - acc: 0.8900     \n",
      "Epoch 9/10\n",
      "100/100 [==============================] - 0s - loss: 0.2682 - acc: 0.9600     \n",
      "Epoch 10/10\n",
      "100/100 [==============================] - 0s - loss: 0.2742 - acc: 0.9300     \n",
      " 981/1000 [============================>.] - ETA: 0s"
     ]
    }
   ],
   "source": [
    "batch_size = 1\n",
    "n_epoch = 10\n",
    "\n",
    "model = Sequential()\n",
    "\n",
    "model.add(LSTM(2, batch_input_shape=[None, 1, dim_train]))  \n",
    "model.add(Dropout(0.4)) # prevent overfitting\n",
    "\n",
    "model.add(Dense(dim_label, init='uniform', activation='sigmoid')) # activation = softmax, relu, sigmoid, tanh\n",
    "\n",
    "# plot_model(model, to_file='model.png', show_shapes=True)\n",
    "\n",
    "model.compile(loss=\"binary_crossentropy\", optimizer='adam', metrics=[\"accuracy\"])\n",
    "\n",
    "train = model.fit(data_train, data_label, nb_epoch=n_epoch, batch_size=batch_size, verbose=1, shuffle=True)\n",
    "\n",
    "predict = model.predict(data_test, batch_size=batch_size, verbose=True)\n",
    "# print predict"
   ]
  },
  {
   "cell_type": "code",
   "execution_count": 17,
   "metadata": {},
   "outputs": [],
   "source": [
    "result = pd.DataFrame(predict)\n",
    "# print result"
   ]
  },
  {
   "cell_type": "code",
   "execution_count": null,
   "metadata": {
    "collapsed": true
   },
   "outputs": [],
   "source": []
  }
 ],
 "metadata": {
  "kernelspec": {
   "display_name": "Python 2",
   "language": "python",
   "name": "python2"
  },
  "language_info": {
   "codemirror_mode": {
    "name": "ipython",
    "version": 2
   },
   "file_extension": ".py",
   "mimetype": "text/x-python",
   "name": "python",
   "nbconvert_exporter": "python",
   "pygments_lexer": "ipython2",
   "version": "2.7.13"
  }
 },
 "nbformat": 4,
 "nbformat_minor": 2
}
